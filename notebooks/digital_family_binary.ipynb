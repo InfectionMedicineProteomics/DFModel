{
 "cells": [
  {
   "cell_type": "code",
   "id": "initial_id",
   "metadata": {
    "collapsed": true,
    "ExecuteTime": {
     "end_time": "2025-02-28T06:10:33.682052Z",
     "start_time": "2025-02-28T06:10:33.542669Z"
    }
   },
   "source": [
    "import pandas as pd\n",
    "import numpy as np\n",
    "import seaborn as sns\n",
    "\n",
    "from sklearn.preprocessing import StandardScaler\n",
    "from sklearn.impute import SimpleImputer\n",
    "\n",
    "from dfmodel import DigitalFamilyBinary"
   ],
   "outputs": [],
   "execution_count": 1
  },
  {
   "metadata": {
    "ExecuteTime": {
     "end_time": "2025-02-28T06:10:34.458618Z",
     "start_time": "2025-02-28T06:10:34.447021Z"
    }
   },
   "cell_type": "code",
   "source": [
    "training_data = pd.read_csv(\n",
    "    \"../tests/data/design_matrix_train.tsv\",\n",
    "    sep=\"\\t\"\n",
    ")"
   ],
   "id": "86fc0dee0b368176",
   "outputs": [],
   "execution_count": 2
  },
  {
   "metadata": {
    "ExecuteTime": {
     "end_time": "2025-02-28T06:10:34.776226Z",
     "start_time": "2025-02-28T06:10:34.762904Z"
    }
   },
   "cell_type": "code",
   "source": [
    "testing_data = pd.read_csv(\n",
    "    \"../tests/data/design_matrix_test.tsv\",\n",
    "    sep=\"\\t\"\n",
    ")"
   ],
   "id": "a87689d27d40082c",
   "outputs": [],
   "execution_count": 3
  },
  {
   "metadata": {
    "ExecuteTime": {
     "end_time": "2025-02-28T06:10:35.055662Z",
     "start_time": "2025-02-28T06:10:35.049605Z"
    }
   },
   "cell_type": "code",
   "source": [
    "clinical_columns = [\n",
    "    \"sao2_ambulance\",\n",
    "    \"resp_frequency_ambulance\",\n",
    "    \"heart_rate_ambulance\",\n",
    "    \"syst_bp_ambulance\",\n",
    "    \"map_ambulance\",\n",
    "    \"mental_status_ambulance\",\n",
    "    \"temperature_ambulance\",\n",
    "    \"crea_emergency_department\",\n",
    "    \"bili_emergency_department\",\n",
    "    \"crp_day1\",\n",
    "    \"trc_emergency_department\",\n",
    "    \"sex\",\n",
    "    \"age\"\n",
    "]\n",
    "\n",
    "continuous_clinical_columns = [\n",
    "    \"sao2_ambulance\",\n",
    "    \"resp_frequency_ambulance\",\n",
    "    \"heart_rate_ambulance\",\n",
    "    \"syst_bp_ambulance\",\n",
    "    \"map_ambulance\",\n",
    "    \"temperature_ambulance\",\n",
    "    \"crea_emergency_department\",\n",
    "    \"bili_emergency_department\",\n",
    "    \"trc_emergency_department\",\n",
    "    \"crp_day1\",\n",
    "    \"age\"\n",
    "]\n",
    "\n",
    "categorical_clinical_columns = [\n",
    "    \"mental_status_ambulance\",\n",
    "]"
   ],
   "id": "89a2f1524a9ac225",
   "outputs": [],
   "execution_count": 4
  },
  {
   "metadata": {
    "ExecuteTime": {
     "end_time": "2025-02-28T06:10:35.446996Z",
     "start_time": "2025-02-28T06:10:35.420875Z"
    }
   },
   "cell_type": "code",
   "source": [
    "clinical_scaler = StandardScaler()\n",
    "\n",
    "clinical_imputer = SimpleImputer()\n",
    "constant_imputer = SimpleImputer(strategy=\"constant\", fill_value=0.0)\n",
    "\n",
    "training_data[continuous_clinical_columns] = clinical_imputer.fit_transform(training_data[continuous_clinical_columns])\n",
    "training_data[categorical_clinical_columns] = constant_imputer.fit_transform(training_data[categorical_clinical_columns])\n",
    "\n",
    "training_data[continuous_clinical_columns] = clinical_scaler.fit_transform(training_data[continuous_clinical_columns])\n",
    "\n",
    "\n",
    "testing_data[continuous_clinical_columns] = clinical_imputer.transform(testing_data[continuous_clinical_columns])\n",
    "testing_data[categorical_clinical_columns] = constant_imputer.transform(testing_data[categorical_clinical_columns])\n",
    "\n",
    "testing_data[continuous_clinical_columns] = clinical_scaler.transform(testing_data[continuous_clinical_columns])\n"
   ],
   "id": "65d8d30ca7f55670",
   "outputs": [],
   "execution_count": 5
  },
  {
   "metadata": {
    "ExecuteTime": {
     "end_time": "2025-02-28T06:10:37.135055Z",
     "start_time": "2025-02-28T06:10:37.131114Z"
    }
   },
   "cell_type": "code",
   "source": "df_estimator = DigitalFamilyBinary()",
   "id": "aead8db9bd8402ea",
   "outputs": [],
   "execution_count": 6
  },
  {
   "metadata": {
    "ExecuteTime": {
     "end_time": "2025-02-28T06:10:39.684036Z",
     "start_time": "2025-02-28T06:10:39.429770Z"
    }
   },
   "cell_type": "code",
   "source": "df_estimator.fit(training_data, features=clinical_columns)",
   "id": "d9d2c641b29d0607",
   "outputs": [],
   "execution_count": 7
  },
  {
   "metadata": {
    "ExecuteTime": {
     "end_time": "2025-02-28T06:11:29.686070Z",
     "start_time": "2025-02-28T06:10:51.702124Z"
    }
   },
   "cell_type": "code",
   "source": "testing_data['mean_sepsis_probability'] = df_estimator.predict(testing_data[clinical_columns], features=clinical_columns, target_column='sepsis_or_septic_shock')",
   "id": "cd6362d5dc2ef302",
   "outputs": [],
   "execution_count": 8
  },
  {
   "metadata": {
    "ExecuteTime": {
     "end_time": "2025-02-28T06:11:56.130063Z",
     "start_time": "2025-02-28T06:11:56.122482Z"
    }
   },
   "cell_type": "code",
   "source": [
    "from scipy import stats\n",
    "from scipy.stats import linregress\n",
    "from sklearn.linear_model import LinearRegression\n",
    "from sklearn.metrics import mean_squared_error, r2_score\n",
    "from scipy.stats import pearsonr\n",
    "\n",
    "def r2(x, y):\n",
    "    return stats.pearsonr(x, y)[0] ** 2\n",
    "\n",
    "def plot_results(X_input, bootstrap_columns):\n",
    "\n",
    "    bootstrap_counts = []\n",
    "\n",
    "\n",
    "    for bootstrap_iteration in bootstrap_columns:\n",
    "\n",
    "\n",
    "        mort_range = X_input[bootstrap_iteration].unique()\n",
    "        mort_range.sort()\n",
    "        actual_mort = []\n",
    "        #mort_range = mort_range[:-1]\n",
    "        counts_per_bin = []\n",
    "        for val in mort_range:\n",
    "\n",
    "            counts = X_input[X_input[bootstrap_iteration] == val]['sepsis_or_septic_shock'].value_counts()\n",
    "            actual_mort.append(counts.get(1, 0) / (counts.get(0, 0) + counts.get(1, 0)))\n",
    "            counts_per_bin.append(counts.sum())\n",
    "\n",
    "        estimated_mort = pd.DataFrame(\n",
    "            {\n",
    "                \"Actual Sepsis Rate\": actual_mort,\n",
    "                \"Estimated Sepsis Rate\": mort_range,\n",
    "                \"Counts\": counts_per_bin\n",
    "            }\n",
    "        )\n",
    "\n",
    "        bootstrap_counts.append(estimated_mort)\n",
    "\n",
    "    estimated_sepsis = pd.concat(bootstrap_counts)\n",
    "\n",
    "    # linreg = LinearRegression()\n",
    "\n",
    "    # linreg.fit(estimated_sepsis[['Estimated Sepsis Rate']], estimated_sepsis[['Actual Sepsis Rate']])\n",
    "\n",
    "    linregress_results = linregress(estimated_sepsis[['Estimated Sepsis Rate']].values.ravel(), estimated_sepsis[['Actual Sepsis Rate']].values.ravel())\n",
    "\n",
    "    predictions = linregress_results.intercept + linregress_results.slope*estimated_sepsis[['Estimated Sepsis Rate']].values.ravel()\n",
    "\n",
    "    corr, pval = pearsonr(\n",
    "        estimated_sepsis[['Estimated Sepsis Rate']].values.ravel(), estimated_sepsis[['Actual Sepsis Rate']].values.ravel()\n",
    "    )\n",
    "\n",
    "    return estimated_sepsis, linregress_results, predictions, corr, pval"
   ],
   "id": "34c0e367c30d25e6",
   "outputs": [],
   "execution_count": 9
  },
  {
   "metadata": {
    "ExecuteTime": {
     "end_time": "2025-02-28T06:11:57.479807Z",
     "start_time": "2025-02-28T06:11:57.475440Z"
    }
   },
   "cell_type": "code",
   "source": "combined_results = pd.concat([testing_data,  df_estimator.bootstrap_results_df], axis=1)",
   "id": "62fcfd9648ff0176",
   "outputs": [],
   "execution_count": 10
  },
  {
   "metadata": {
    "ExecuteTime": {
     "end_time": "2025-02-28T06:11:58.716119Z",
     "start_time": "2025-02-28T06:11:58.146091Z"
    }
   },
   "cell_type": "code",
   "source": "estimated_sepsis, linregress_results, predictions, corr, pval = plot_results(combined_results, df_estimator.bootstrap_columns)\n",
   "id": "b657072b1409ae8",
   "outputs": [],
   "execution_count": 11
  },
  {
   "metadata": {
    "ExecuteTime": {
     "end_time": "2025-02-28T06:12:01.299697Z",
     "start_time": "2025-02-28T06:12:01.047803Z"
    }
   },
   "cell_type": "code",
   "source": [
    "import matplotlib.pyplot as plt\n",
    "\n",
    "fig, ax = plt.subplots()\n",
    "\n",
    "sns.regplot(\n",
    "    data=estimated_sepsis,\n",
    "    x=\"Estimated Sepsis Rate\",\n",
    "    y=\"Actual Sepsis Rate\",\n",
    "    ax=ax,\n",
    "    color=\"k\"\n",
    ")\n",
    "\n",
    "ax.set_title(\n",
    "    f\"R2: {linregress_results.rvalue:.2f}\"\n",
    ")\n",
    "\n",
    "sns.despine()"
   ],
   "id": "75728096d7d02bf8",
   "outputs": [
    {
     "data": {
      "text/plain": [
       "<Figure size 640x480 with 1 Axes>"
      ],
      "image/png": "[encoded data removed]"
     },
     "metadata": {},
     "output_type": "display_data"
    }
   ],
   "execution_count": 12
  }
 ],
 "metadata": {
  "kernelspec": {
   "display_name": "Python 3",
   "language": "python",
   "name": "python3"
  },
  "language_info": {
   "codemirror_mode": {
    "name": "ipython",
    "version": 2
   },
   "file_extension": ".py",
   "mimetype": "text/x-python",
   "name": "python",
   "nbconvert_exporter": "python",
   "pygments_lexer": "ipython2",
   "version": "2.7.6"
  }
 },
 "nbformat": 4,
 "nbformat_minor": 5
}
